{
 "cells": [
  {
   "cell_type": "code",
   "execution_count": 6,
   "metadata": {},
   "outputs": [
    {
     "name": "stdout",
     "output_type": "stream",
     "text": [
      "Enter your first name:  Tejaswini\n",
      "Enter your first name:  Ponnakanti\n",
      "Full Name: Tejaswini Ponnakanti\n",
      "Alternate Characters in Full Name: TjsiiPnaat\n"
     ]
    }
   ],
   "source": [
    "# Define a function to concatenate first_name and last_name into a full name\n",
    "def fullname(first_name, last_name):\n",
    "    full_name = first_name + \" \" + last_name\n",
    "    return full_name\n",
    "\n",
    "# Define a function to return every other character in a given string\n",
    "def string_alternative(full_name):\n",
    "    alternate_chars = \"\"\n",
    "    for i in range(0, len(full_name), 2):\n",
    "        alternate_chars += full_name[i]\n",
    "    return alternate_chars\n",
    "\n",
    "# Main function to collect user input, process it, and display results\n",
    "def main():\n",
    "    # Prompt the user to enter their first name\n",
    "    first_name = input(\"Enter your first name: \")\n",
    "    print(\"Enter your first name: \", first_name)\n",
    "\n",
    "    # Prompt the user to enter their last name\n",
    "    last_name = input(\"Enter your last name: \")\n",
    "    print(\"Enter your first name: \", last_name)\n",
    "\n",
    "    # Call the fullname function to concatenate the first and last names\n",
    "    full_name = fullname(first_name, last_name)\n",
    "\n",
    "    # Display the full name\n",
    "    print(\"Full Name:\", full_name)\n",
    "\n",
    "    # Call the string_alternative function to get alternate characters in the full name\n",
    "    alternate_chars = string_alternative(full_name)\n",
    "\n",
    "    # Display the alternate characters in the full name\n",
    "    print(\"Alternate Characters in Full Name:\", alternate_chars)\n",
    "\n",
    "# Check if the script is run as the main program\n",
    "if __name__ == \"__main__\":\n",
    "    main()"
   ]
  },
  {
   "cell_type": "code",
   "execution_count": 9,
   "metadata": {},
   "outputs": [
    {
     "name": "stdout",
     "output_type": "stream",
     "text": [
      "Input:\n",
      "Python Course\n",
      "Deep Learning Course\n",
      "Word_Count:\n",
      "python: 1\n",
      "course: 2\n",
      "deep: 1\n",
      "learning: 1\n",
      "Output saved to output.txt\n"
     ]
    }
   ],
   "source": [
    "import re\n",
    "# Function to count words in a line\n",
    "def count_words(line, word_counts):\n",
    "    # Use regular expression to split the line into words and exclude punctuation\n",
    "    words = re.findall(r'\\b\\w+\\b', line.lower())\n",
    "    for word in words:\n",
    "        word_counts[word] = word_counts.get(word, 0) + 1\n",
    "\n",
    "# Read input from input.txt file\n",
    "file_path = 'C:/Users/pteja/OneDrive/Desktop/input.txt'\n",
    "with open(file_path, 'r') as input_file:\n",
    "    lines = input_file.readlines()\n",
    "\n",
    "# Initialize a dictionary to store word counts\n",
    "word_counts = {}\n",
    "\n",
    "# Count words in the entire file\n",
    "for line in lines:\n",
    "    count_words(line.strip(), word_counts)\n",
    "\n",
    "# Print the original lines\n",
    "print(\"Input:\")\n",
    "for line in lines:\n",
    "    print(line.strip())\n",
    "\n",
    "# Print the word counts, displaying each word only once\n",
    "print(\"Word_Count:\")\n",
    "displayed_words = set()\n",
    "for line in lines:\n",
    "    words = re.findall(r'\\b\\w+\\b', line.lower())\n",
    "    for word in words:\n",
    "        if word not in displayed_words:\n",
    "            print(f\"{word}: {word_counts[word]}\")\n",
    "            displayed_words.add(word)\n",
    "\n",
    "# Write the output to output.txt file\n",
    "with open(\"output.txt\", \"w\") as output_file:\n",
    "    output_file.write(\"Input:\\n\")\n",
    "    for line in lines:\n",
    "        output_file.write(line.strip() + \"\\n\")\n",
    "    output_file.write(\"Word_Count:\\n\")\n",
    "    for word in displayed_words:\n",
    "        output_file.write(f\"{word}: {word_counts[word]}\\n\")\n",
    "\n",
    "print(\"Output saved to output.txt\")"
   ]
  },
  {
   "cell_type": "code",
   "execution_count": 10,
   "metadata": {},
   "outputs": [
    {
     "name": "stdout",
     "output_type": "stream",
     "text": [
      "Enter a list of heights in centimeters:   [150,155, 145, 148]\n",
      "Heights in Inches (Nested Loop): [59.06, 61.02, 57.09, 58.27]\n",
      "Heights in Inches (List Comprehension): [59.06, 61.02, 57.09, 58.27]\n"
     ]
    }
   ],
   "source": [
    "import ast\n",
    "\n",
    "def centimeters_to_inches(centimeters):\n",
    "    return centimeters / 2.54\n",
    "\n",
    "# Function to read a list of heights from user input\n",
    "def get_heights():\n",
    "    input_string = input(\"Enter a list of heights in centimeters: \")\n",
    "    print(\"Enter a list of heights in centimeters: \", input_string)\n",
    "    try:\n",
    "        # Safely evaluate the input string to a list\n",
    "        heights = ast.literal_eval(input_string)\n",
    "        if isinstance(heights, list) and all(isinstance(height, int) for height in heights):\n",
    "            return heights\n",
    "        else:\n",
    "            raise ValueError\n",
    "    except (ValueError, SyntaxError):\n",
    "        print(\"Invalid input. Please enter a valid list of integers.\")\n",
    "        return []\n",
    "\n",
    "# Read heights from user\n",
    "heights_cm = get_heights()\n",
    "\n",
    "# Convert to inches using a nested loop\n",
    "heights_in_inches_loop = []\n",
    "for height in heights_cm:\n",
    "    inches = centimeters_to_inches(height)\n",
    "    heights_in_inches_loop.append(round(inches, 2))\n",
    "\n",
    "# Convert to inches using list comprehension\n",
    "heights_in_inches_comprehension = [round(centimeters_to_inches(height), 2) for height in heights_cm]\n",
    "\n",
    "# Output\n",
    "print(\"Heights in Inches (Nested Loop):\", heights_in_inches_loop)\n",
    "print(\"Heights in Inches (List Comprehension):\", heights_in_inches_comprehension)"
   ]
  }
 ],
 "metadata": {
  "kernelspec": {
   "display_name": "Python 3",
   "language": "python",
   "name": "python3"
  },
  "language_info": {
   "codemirror_mode": {
    "name": "ipython",
    "version": 3
   },
   "file_extension": ".py",
   "mimetype": "text/x-python",
   "name": "python",
   "nbconvert_exporter": "python",
   "pygments_lexer": "ipython3",
   "version": "3.11.9"
  }
 },
 "nbformat": 4,
 "nbformat_minor": 2
}
