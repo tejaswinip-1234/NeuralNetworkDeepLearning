{
  "nbformat": 4,
  "nbformat_minor": 0,
  "metadata": {
    "colab": {
      "provenance": []
    },
    "kernelspec": {
      "name": "python3",
      "display_name": "Python 3"
    },
    "language_info": {
      "name": "python"
    }
  },
  "cells": [
    {
      "cell_type": "code",
      "source": [
        "str1= list(input())\n",
        "del str1[3]\n",
        "del str1[3]\n",
        "str1.reverse()\n",
        "result = ''.join(str1)\n",
        "print(result)"
      ],
      "metadata": {
        "id": "w4SUzTjCOZBz",
        "colab": {
          "base_uri": "https://localhost:8080/"
        },
        "outputId": "967e1e15-98a4-49ba-b182-28740a898847"
      },
      "execution_count": 14,
      "outputs": [
        {
          "output_type": "stream",
          "name": "stdout",
          "text": [
            "python\n",
            "ntyp\n"
          ]
        }
      ]
    },
    {
      "cell_type": "code",
      "source": [
        "num1 = int(input())\n",
        "num2 = int(input())\n",
        "print(num1 * num2)   # multiplication(*)\n",
        "print(num1 / num2)   # division(/)\n",
        "print(num1 ** num2)  # exponential(**)\n",
        "print(num1 % num2)   # modulus(%)\n",
        "print(num1 // num2)  # Floor division operator(//)\n"
      ],
      "metadata": {
        "colab": {
          "base_uri": "https://localhost:8080/"
        },
        "id": "Bsrhot7NRX6s",
        "outputId": "bfc612ce-5fc5-44a8-d04e-5eaab9ecf39a"
      },
      "execution_count": 15,
      "outputs": [
        {
          "output_type": "stream",
          "name": "stdout",
          "text": [
            "6\n",
            "3\n",
            "18\n",
            "2.0\n",
            "216\n",
            "0\n",
            "2\n"
          ]
        }
      ]
    },
    {
      "cell_type": "code",
      "source": [
        "input_string=\"I love playing with python\"\n",
        "output_string=input_string.replace(\"python\",\"pythons\")\n",
        "print(output_string)"
      ],
      "metadata": {
        "colab": {
          "base_uri": "https://localhost:8080/"
        },
        "id": "tVQmGjZKRy8t",
        "outputId": "ed0c168d-0888-4dc4-d6f7-008028b45018"
      },
      "execution_count": 10,
      "outputs": [
        {
          "output_type": "stream",
          "name": "stdout",
          "text": [
            "I love playing with pythons\n"
          ]
        }
      ]
    },
    {
      "cell_type": "code",
      "source": [
        "input_string = 'I love playing with python'\n",
        "output_string=input_string.split()\n",
        "output_string[-1]=\"pythons\"\n",
        "result = ' '.join(output_string)\n",
        "print(result)"
      ],
      "metadata": {
        "colab": {
          "base_uri": "https://localhost:8080/"
        },
        "id": "oKtRVFcuR-gC",
        "outputId": "dc6e709f-1ba3-4600-a305-f209729806bf"
      },
      "execution_count": 11,
      "outputs": [
        {
          "output_type": "stream",
          "name": "stdout",
          "text": [
            "I love playing with pythons\n"
          ]
        }
      ]
    },
    {
      "cell_type": "code",
      "source": [
        "grade=int(input())\n",
        "if grade >= 90:\n",
        "    print(\"A\")\n",
        "elif grade >= 80:\n",
        "    print(\"B\")\n",
        "elif grade >= 70:\n",
        "    print(\"C\")\n",
        "elif grade >= 60:\n",
        "    print(\"D\")\n",
        "else:\n",
        "    print(\"F\")"
      ],
      "metadata": {
        "colab": {
          "base_uri": "https://localhost:8080/"
        },
        "id": "2wW5deEoSJhW",
        "outputId": "ae404124-177f-496a-dcb0-95e4eb88bcb2"
      },
      "execution_count": 13,
      "outputs": [
        {
          "output_type": "stream",
          "name": "stdout",
          "text": [
            "92\n",
            "A\n"
          ]
        }
      ]
    }
  ]
}